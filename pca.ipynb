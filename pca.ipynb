{
 "cells": [
  {
   "cell_type": "markdown",
   "metadata": {},
   "source": [
    "# Principal Component Analysis\n",
    "\n",
    "Think of the predictors in your dataset as dimensions in what we can usefully call \"feature space\". If we're predicting house prices, then we might have a 'square feet' dimension or a 'number of bathrooms' dimension, etc. Then each record (of a house or a house sale, say) would be represented as a point (or vector) in this feature space. Some would score higher on the 'latitude' dimension or lower on the 'number of bedrooms' dimension, or whatever.\n",
    "\n",
    "One difficulty is that, despite our working nomenclature, these things aren't really *dimensions* in the truest sense, since they're not independent of each other. When we talk about the x-, y-, and z-dimensions of Euclidean 3-space, for example, one important feature is that values of x have no bearing (per se) on values of y or of z. I can move three units along the x-dimension without changing my y- or z-position.\n",
    "\n",
    "But the analogous thing is generally not true for datasets. When I increase my position along the 'number of bedrooms' dimension (or, better, *direction*), I also tend to increase my position along, say, the 'square feet' direction as well.\n",
    "\n",
    "This is problematic for a couple reasons: One is that my model could be in effect \"double-counting\" certain features of my signal, which can lead to overfit models. And if my goal is inference or explanation, then I'm going to have a very hard time distinguishing between the idea that the number of bedrooms is what's *really* predictive of housing prices and the idea that the number of square feet is what's really so predictive.\n",
    "\n",
    "The idea behind Principal Component Analysis (PCA) is to transform our dataset into something more useful for building models. What we want to do is to build new dimensions (predictors) out of the dimensions we are given in such a way that:\n",
    "\n",
    "(1) each dimension we draw captures as much of the remaining variance among our predictors as possible; and <br/>\n",
    "(2) each dimension we draw is orthogonal to the ones we've already drawn.\n",
    "\n",
    "## Motivation\n",
    "\n",
    "Think back to multiple linear regression for a moment.\n",
    "\n",
    "The fundamental idea is that I can get a better prediction for my dependent variable by considering a *linear combination of my predictors* than I can get by considering any one predictor by itself.\n",
    "\n",
    "$\\rightarrow$ **PCA insight**: If the combinations of predictors work better than the predictors themselves, then let's just treat the combinations as our primary dimensions!\n",
    "\n",
    "But one problem with having lots of predictors is that it raises the chance that some will be nearly *collinear*.\n",
    "\n",
    "$\\rightarrow$ **PCA insight**: Since we're reconstructing our dimensions anyway, let's make sure that the dimensions we construct are mutually orthogonal! <br/>\n",
    "$\\rightarrow$ **PCA insight**: Moreover, since we'll be capturing much of the variance among our predictors in the first few dimensions we construct, we'll be able in effect to *reduce  the dimensionality* of our problem. Thus PCA is a fundamental tool in *dimensionality reduction*."
   ]
  },
  {
   "cell_type": "code",
   "execution_count": 1,
   "metadata": {},
   "outputs": [],
   "source": [
    "import pandas as pd\n",
    "import numpy as np\n",
    "from sklearn.preprocessing import StandardScaler\n",
    "from sklearn.model_selection import train_test_split\n",
    "from sklearn.linear_model import LinearRegression\n",
    "from sklearn.decomposition import PCA\n",
    "from matplotlib import pyplot as plt\n",
    "import seaborn as sns\n",
    "\n",
    "%matplotlib inline"
   ]
  },
  {
   "cell_type": "code",
   "execution_count": 2,
   "metadata": {
    "scrolled": true
   },
   "outputs": [],
   "source": [
    "cars = pd.read_csv('cars.csv')"
   ]
  },
  {
   "cell_type": "code",
   "execution_count": 3,
   "metadata": {},
   "outputs": [
    {
     "data": {
      "text/html": [
       "<div>\n",
       "<style scoped>\n",
       "    .dataframe tbody tr th:only-of-type {\n",
       "        vertical-align: middle;\n",
       "    }\n",
       "\n",
       "    .dataframe tbody tr th {\n",
       "        vertical-align: top;\n",
       "    }\n",
       "\n",
       "    .dataframe thead th {\n",
       "        text-align: right;\n",
       "    }\n",
       "</style>\n",
       "<table border=\"1\" class=\"dataframe\">\n",
       "  <thead>\n",
       "    <tr style=\"text-align: right;\">\n",
       "      <th></th>\n",
       "      <th>mpg</th>\n",
       "      <th>cylinders</th>\n",
       "      <th>cubicinches</th>\n",
       "      <th>hp</th>\n",
       "      <th>weightlbs</th>\n",
       "      <th>time-to-60</th>\n",
       "      <th>year</th>\n",
       "      <th>brand</th>\n",
       "    </tr>\n",
       "  </thead>\n",
       "  <tbody>\n",
       "    <tr>\n",
       "      <td>0</td>\n",
       "      <td>14.0</td>\n",
       "      <td>8</td>\n",
       "      <td>350</td>\n",
       "      <td>165</td>\n",
       "      <td>4209</td>\n",
       "      <td>12</td>\n",
       "      <td>1972</td>\n",
       "      <td>US.</td>\n",
       "    </tr>\n",
       "    <tr>\n",
       "      <td>1</td>\n",
       "      <td>31.9</td>\n",
       "      <td>4</td>\n",
       "      <td>89</td>\n",
       "      <td>71</td>\n",
       "      <td>1925</td>\n",
       "      <td>14</td>\n",
       "      <td>1980</td>\n",
       "      <td>Europe.</td>\n",
       "    </tr>\n",
       "    <tr>\n",
       "      <td>2</td>\n",
       "      <td>17.0</td>\n",
       "      <td>8</td>\n",
       "      <td>302</td>\n",
       "      <td>140</td>\n",
       "      <td>3449</td>\n",
       "      <td>11</td>\n",
       "      <td>1971</td>\n",
       "      <td>US.</td>\n",
       "    </tr>\n",
       "    <tr>\n",
       "      <td>3</td>\n",
       "      <td>15.0</td>\n",
       "      <td>8</td>\n",
       "      <td>400</td>\n",
       "      <td>150</td>\n",
       "      <td>3761</td>\n",
       "      <td>10</td>\n",
       "      <td>1971</td>\n",
       "      <td>US.</td>\n",
       "    </tr>\n",
       "    <tr>\n",
       "      <td>4</td>\n",
       "      <td>30.5</td>\n",
       "      <td>4</td>\n",
       "      <td>98</td>\n",
       "      <td>63</td>\n",
       "      <td>2051</td>\n",
       "      <td>17</td>\n",
       "      <td>1978</td>\n",
       "      <td>US.</td>\n",
       "    </tr>\n",
       "  </tbody>\n",
       "</table>\n",
       "</div>"
      ],
      "text/plain": [
       "    mpg   cylinders  cubicinches   hp  weightlbs   time-to-60   year     brand\n",
       "0  14.0           8          350  165       4209           12   1972       US.\n",
       "1  31.9           4           89   71       1925           14   1980   Europe.\n",
       "2  17.0           8          302  140       3449           11   1971       US.\n",
       "3  15.0           8          400  150       3761           10   1971       US.\n",
       "4  30.5           4           98   63       2051           17   1978       US."
      ]
     },
     "execution_count": 3,
     "metadata": {},
     "output_type": "execute_result"
    }
   ],
   "source": [
    "cars.head()"
   ]
  },
  {
   "cell_type": "code",
   "execution_count": 4,
   "metadata": {},
   "outputs": [],
   "source": [
    "X_train, X_test, y_train, y_test = train_test_split(cars.drop('mpg', axis=1),\n",
    "                                                    cars['mpg'],\n",
    "                                                   random_state=20)"
   ]
  },
  {
   "cell_type": "code",
   "execution_count": 5,
   "metadata": {},
   "outputs": [],
   "source": [
    "X_train[' cubicinches'].replace(' ', np.nan, inplace=True)\n",
    "X_train[' cubicinches'] = X_train[' cubicinches'].map(float)\n",
    "X_train[' cubicinches'].fillna(X_train[' cubicinches'].mean(skipna=True), inplace=True)"
   ]
  },
  {
   "cell_type": "code",
   "execution_count": 6,
   "metadata": {},
   "outputs": [],
   "source": [
    "X_train[' weightlbs'].replace(' ', np.nan, inplace=True)\n",
    "X_train[' weightlbs'] = X_train[' weightlbs'].map(float)\n",
    "X_train[' weightlbs'].fillna(X_train[' weightlbs'].mean(), inplace=True)"
   ]
  },
  {
   "cell_type": "code",
   "execution_count": 7,
   "metadata": {},
   "outputs": [],
   "source": [
    "X_train[' cylinders'] = X_train[' cylinders'].map(float)\n",
    "X_train[' hp'] = X_train[' hp'].map(float)\n",
    "X_train[' time-to-60'] = X_train[' time-to-60'].map(float)\n",
    "X_train[' year'] = X_train[' year'].map(float)"
   ]
  },
  {
   "cell_type": "code",
   "execution_count": 8,
   "metadata": {
    "scrolled": true
   },
   "outputs": [],
   "source": [
    "# Scaling\n",
    "\n",
    "ss = StandardScaler()"
   ]
  },
  {
   "cell_type": "code",
   "execution_count": 9,
   "metadata": {},
   "outputs": [],
   "source": [
    "# Scale-transforming\n",
    "\n",
    "X_tr_sc = ss.fit_transform(X_train.drop(' brand', axis=1))"
   ]
  },
  {
   "cell_type": "code",
   "execution_count": 10,
   "metadata": {},
   "outputs": [
    {
     "data": {
      "text/plain": [
       "0.8070791414437146"
      ]
     },
     "execution_count": 10,
     "metadata": {},
     "output_type": "execute_result"
    }
   ],
   "source": [
    "# Let's construct a linear regression\n",
    "\n",
    "lr = LinearRegression().fit(X_tr_sc, y_train)\n",
    "\n",
    "# Score on train\n",
    "lr.score(X_tr_sc, y_train)"
   ]
  },
  {
   "cell_type": "code",
   "execution_count": 11,
   "metadata": {},
   "outputs": [],
   "source": [
    "def clean(df):\n",
    "    new = df.copy()\n",
    "    for col in [' cubicinches', ' weightlbs']:\n",
    "        new[col] = new[col].replace(' ', np.nan).map(float).replace(np.nan, new[col].mean())\n",
    "    return new"
   ]
  },
  {
   "cell_type": "code",
   "execution_count": 12,
   "metadata": {},
   "outputs": [],
   "source": [
    "def to_float(df):\n",
    "    new = df.copy()\n",
    "    for col in [' cylinders', ' hp', ' time-to-60', ' year']:\n",
    "        new[col] = new[col].map(float)\n",
    "    return new"
   ]
  },
  {
   "cell_type": "code",
   "execution_count": 13,
   "metadata": {},
   "outputs": [],
   "source": [
    "def drop(df):\n",
    "    return df.drop(' brand', axis=1)"
   ]
  },
  {
   "cell_type": "code",
   "execution_count": 14,
   "metadata": {},
   "outputs": [],
   "source": [
    "def scale(df, ss):\n",
    "    return ss.transform(df)"
   ]
  },
  {
   "cell_type": "code",
   "execution_count": 15,
   "metadata": {},
   "outputs": [],
   "source": [
    "test_cleaned = clean(X_test)\n",
    "test_floated = to_float(test_cleaned)\n",
    "test_dropped = drop(test_floated)\n",
    "test_scaled = scale(test_dropped, ss)"
   ]
  },
  {
   "cell_type": "code",
   "execution_count": 16,
   "metadata": {},
   "outputs": [
    {
     "data": {
      "text/plain": [
       "0.7504046085411239"
      ]
     },
     "execution_count": 16,
     "metadata": {},
     "output_type": "execute_result"
    }
   ],
   "source": [
    "# Score on test\n",
    "\n",
    "lr.score(test_scaled, y_test)"
   ]
  },
  {
   "cell_type": "code",
   "execution_count": 17,
   "metadata": {},
   "outputs": [
    {
     "data": {
      "text/plain": [
       "array([-1.40889827,  0.68089322, -0.4802151 , -4.65755988, -0.17631133,\n",
       "        2.42675657])"
      ]
     },
     "execution_count": 17,
     "metadata": {},
     "output_type": "execute_result"
    }
   ],
   "source": [
    "# Get the coefficients of the best-fit hyperplane\n",
    "\n",
    "lr.coef_"
   ]
  },
  {
   "cell_type": "markdown",
   "metadata": {},
   "source": [
    "Thus, our best-fit hyperplane is given by:\n",
    "\n",
    "$-1.409\\times cyl + 0.681\\times in^3 - 0.480\\times hp - 4.658\\times lbs. -  0.176\\times time_{60} + 2.427\\times yr$"
   ]
  },
  {
   "cell_type": "markdown",
   "metadata": {},
   "source": [
    "## Eigenvalues and Eigenvectors\n",
    "\n",
    "The key idea is to diagonalize (i.e. find the eigendecomposition of) the covariance matrix. The decomposition will produce a set of orthogonal vectors that explain as much of the remaining variance as possible. These are our [principal components](https://math.stackexchange.com/questions/23596/why-is-the-eigenvector-of-a-covariance-matrix-equal-to-a-principal-component).\n",
    "\n",
    "Let's say a word about eigenvalues and eigenvectors. It turns out that eigenvalues and -vectors have a dizzying number of applications. But the basic idea is that, if we can split a bunch of vectors (i.e. a matrix) into a set of mutually orthogonal vectors, then we can isolate the force of the bunch into discrete bits, each of which by itself acts like a simple linear transformation.\n",
    "\n",
    "That's why the definition of an eigenvector is as it is: $\\vec{x}$ is an eigenvector of the matrix $A$ if $A\\vec{x} = \\lambda\\vec{x}$, for some scalar $\\lambda$. That is, the vector is oriented in just such a direction that multiplying the matrix by it serves only to lengthen or shorten it.\n",
    "\n",
    "The diagonalization looks like this:\n",
    "\n",
    "$A = Q\\Lambda Q^{-1}$, where $Q$ is a matrix comprising the **eigenvectors** of $A$ and $\\Lambda$ has non-zero elements only along its main diagonal (hence the \"diagonalization\" of $A$). These non-zero elements are the **eigenvalues** of $A$. We'll return to eigendecomposition in Mod 4 when we discuss the singular value decomposition, which is a related matrix factorization.\n",
    "\n",
    "Suppose we have the matrix\n",
    "$A =\n",
    "\\begin{bmatrix}\n",
    "a_{11} & a_{12} \\\\\n",
    "a_{21} & a_{22} \\\\\n",
    "\\end{bmatrix}\n",
    "$.\n",
    "\n",
    "Let's calculate the eigendecomposition of this matrix.\n",
    "\n",
    "In order to do this, we set $(A - \\lambda I)\\vec{x} = 0$. One trivial solution is $\\vec{x} = \\vec{0}$, but if there are more interesting solutions, then it must be that $|A - \\lambda I| = 0$, which is to say that some column vector in $A - \\lambda I$ must be expressible as a linear combination of the other columns. (Otherwise, there would be no way to \"undo\" the multiplicative effect of a column vector on $\\vec{x}$!) For more on this point, see [this page](http://www2.math.uconn.edu/~troby/math2210f16/LT/sec1_7.pdf).\n",
    "\n",
    "So we have:\n",
    "\n",
    "$\\begin{vmatrix}\n",
    "a_{11} - \\lambda & a_{12} \\\\\n",
    "a_{21} & a_{22} - \\lambda\n",
    "\\end{vmatrix} = 0$\n",
    "\n",
    "$(a_{11} - \\lambda)(a_{22} - \\lambda) - a_{12}a_{21} = 0$\n",
    "\n",
    "$\\lambda^2 - (a_{11} + a_{22})\\lambda + a_{11}a_{22} - a_{12}a_{21}$\n",
    "\n",
    "$\\lambda = \\frac{a_{11} + a_{22}\\pm\\sqrt{(a_{11} + a_{22})^2 + 4(a_{12}a_{21} - a_{11}a_{22})}}{2}$\n",
    "\n",
    "Suppose e.g. we had\n",
    "\n",
    "$A = \\begin{bmatrix}\n",
    "5 & 3 \\\\\n",
    "3 & 5\n",
    "\\end{bmatrix}$.\n",
    "\n",
    "We can use the equation we just derived to solve for the eigenvalues of this matrix. Then we can plug *those* into our eigenvector definition to solve for the eigenvectors:\n",
    "\n",
    "So:\n",
    "\n",
    "### Eigenvalues\n",
    "\n",
    "$\\lambda = \\frac{5+5\\pm\\sqrt{(5+5)^2+4(3\\times 3 - 5\\times 5)}}{2} = 5\\pm\\frac{\\sqrt{36}}{2} = 2, 8$.\n",
    "\n",
    "### Eigenvectors\n",
    "\n",
    "Now we can plug those in. If we plug in $\\lambda = 8$, then we get:\n",
    "\n",
    "$\\begin{bmatrix}\n",
    "5-8 & 3 \\\\\n",
    "3 & 5-8\n",
    "\\end{bmatrix}\n",
    "\\begin{bmatrix}\n",
    "x_1 \\\\\n",
    "x_2\n",
    "\\end{bmatrix}\n",
    "=\n",
    "\\begin{bmatrix}\n",
    "-3 & 3 \\\\\n",
    "3 & -3\n",
    "\\end{bmatrix}\n",
    "\\begin{bmatrix}\n",
    "x_1 \\\\\n",
    "x_2\n",
    "\\end{bmatrix} = 0.$\n",
    "\n",
    "So:\n",
    "\n",
    "$-3x_1 + 3x_2 = 0$ (or $3x_1 - 3x_2 = 0$)\n",
    "\n",
    "$x_1 = x_2$.\n",
    "\n",
    "It is standard to scale eigenvectors to a magnitude of 1, and so we would write this eigenvector as\n",
    "$\\begin{bmatrix}\n",
    "\\frac{\\sqrt{2}}{2} \\\\\n",
    "\\frac{\\sqrt{2}}{2}\n",
    "\\end{bmatrix}$.\n",
    "\n",
    "If we plug in $\\lambda = 2$, we find a second eigenvector equal to\n",
    "$\\begin{bmatrix}\n",
    "-\\frac{\\sqrt{2}}{2} \\\\\n",
    "\\frac{\\sqrt{2}}{2}\n",
    "\\end{bmatrix}$. (I'll leave this as an exercise.)"
   ]
  },
  {
   "cell_type": "markdown",
   "metadata": {},
   "source": [
    "### In Code"
   ]
  },
  {
   "cell_type": "code",
   "execution_count": 18,
   "metadata": {},
   "outputs": [
    {
     "data": {
      "text/plain": [
       "(array([8., 2.]), array([[ 0.70710678, -0.70710678],\n",
       "        [ 0.70710678,  0.70710678]]))"
      ]
     },
     "execution_count": 18,
     "metadata": {},
     "output_type": "execute_result"
    }
   ],
   "source": [
    "# We can use np.linalg.eig()\n",
    "\n",
    "A = np.array([[5, 3], [3, 5]])\n",
    "np.linalg.eig(A)"
   ]
  },
  {
   "cell_type": "code",
   "execution_count": 19,
   "metadata": {},
   "outputs": [],
   "source": [
    "# np.linalg.eig(X) returns a double of NumPy arrays, the first containing\n",
    "# the eigenvalues of X and the second containing the eigenvectors of X.\n",
    "\n",
    "v, q = np.linalg.eig(A)"
   ]
  },
  {
   "cell_type": "code",
   "execution_count": 20,
   "metadata": {},
   "outputs": [
    {
     "data": {
      "text/plain": [
       "array([8., 2.])"
      ]
     },
     "execution_count": 20,
     "metadata": {},
     "output_type": "execute_result"
    }
   ],
   "source": [
    "v"
   ]
  },
  {
   "cell_type": "code",
   "execution_count": 21,
   "metadata": {},
   "outputs": [
    {
     "data": {
      "text/plain": [
       "array([[8., 0.],\n",
       "       [0., 2.]])"
      ]
     },
     "execution_count": 21,
     "metadata": {},
     "output_type": "execute_result"
    }
   ],
   "source": [
    "# np.diag()\n",
    "\n",
    "np.diag(v)"
   ]
  },
  {
   "cell_type": "code",
   "execution_count": 22,
   "metadata": {},
   "outputs": [
    {
     "data": {
      "text/plain": [
       "array([[5., 3.],\n",
       "       [3., 5.]])"
      ]
     },
     "execution_count": 22,
     "metadata": {},
     "output_type": "execute_result"
    }
   ],
   "source": [
    "# Reconstruct A by multiplication\n",
    "\n",
    "q.dot(np.diag(v)).dot(q.T)"
   ]
  },
  {
   "cell_type": "markdown",
   "metadata": {},
   "source": [
    "## PCA by Hand\n",
    "\n",
    "What follows is indebted to [Sebastian Raschka](http://sebastianraschka.com/Articles/2015_pca_in_3_steps.html#pca-vs-lda)."
   ]
  },
  {
   "cell_type": "code",
   "execution_count": 23,
   "metadata": {},
   "outputs": [
    {
     "data": {
      "text/plain": [
       "(6, 6)"
      ]
     },
     "execution_count": 23,
     "metadata": {},
     "output_type": "execute_result"
    }
   ],
   "source": [
    "# We'll start by producing the covariance matrix for the columns of X_tr_sc.\n",
    "\n",
    "cov_mat = np.cov(X_tr_sc, rowvar=False)\n",
    "cov_mat.shape"
   ]
  },
  {
   "cell_type": "code",
   "execution_count": 24,
   "metadata": {},
   "outputs": [
    {
     "data": {
      "text/plain": [
       "array([[ 1.00515464,  0.95054229,  0.84015601,  0.88862141, -0.58673216,\n",
       "        -0.28635987],\n",
       "       [ 0.95054229,  1.00515464,  0.90813035,  0.91789425, -0.62906645,\n",
       "        -0.31919939],\n",
       "       [ 0.84015601,  0.90813035,  1.00515464,  0.85205094, -0.74580856,\n",
       "        -0.34779071],\n",
       "       [ 0.88862141,  0.91789425,  0.85205094,  1.00515464, -0.47833935,\n",
       "        -0.23373732],\n",
       "       [-0.58673216, -0.62906645, -0.74580856, -0.47833935,  1.00515464,\n",
       "         0.2754432 ],\n",
       "       [-0.28635987, -0.31919939, -0.34779071, -0.23373732,  0.2754432 ,\n",
       "         1.00515464]])"
      ]
     },
     "execution_count": 24,
     "metadata": {},
     "output_type": "execute_result"
    }
   ],
   "source": [
    "cov_mat"
   ]
  },
  {
   "cell_type": "code",
   "execution_count": 25,
   "metadata": {
    "scrolled": true
   },
   "outputs": [
    {
     "data": {
      "text/plain": [
       "(array([4.28816227, 0.89326802, 0.59474284, 0.14320283, 0.0389576 ,\n",
       "        0.07259426]),\n",
       " array([[ 0.45427234,  0.14291488,  0.2039139 ,  0.67962553,  0.50166371,\n",
       "          0.13443869],\n",
       "        [ 0.46982149,  0.10987243,  0.1531847 ,  0.16599544, -0.80977183,\n",
       "          0.24585637],\n",
       "        [ 0.46221272,  0.02287927, -0.12894018, -0.60385346,  0.29429993,\n",
       "          0.56387846],\n",
       "        [ 0.44017714,  0.21748418,  0.36105403, -0.3576337 ,  0.06598816,\n",
       "         -0.70450579],\n",
       "        [-0.35675253,  0.10200707,  0.86011499, -0.13379493,  0.03960383,\n",
       "          0.32102158],\n",
       "        [-0.19553907,  0.95355918, -0.2194771 , -0.01061653, -0.00823046,\n",
       "          0.06433281]]))"
      ]
     },
     "execution_count": 25,
     "metadata": {},
     "output_type": "execute_result"
    }
   ],
   "source": [
    "np.linalg.eig(cov_mat)"
   ]
  },
  {
   "cell_type": "code",
   "execution_count": 26,
   "metadata": {},
   "outputs": [],
   "source": [
    "# Let's assign the results of eig(cov_mat) to a double of variables.\n",
    "\n",
    "eigvals, eigvecs = np.linalg.eig(cov_mat)"
   ]
  },
  {
   "cell_type": "code",
   "execution_count": 27,
   "metadata": {},
   "outputs": [
    {
     "data": {
      "text/plain": [
       "array([[ 0.45427234,  0.14291488,  0.2039139 ,  0.67962553,  0.50166371,\n",
       "         0.13443869],\n",
       "       [ 0.46982149,  0.10987243,  0.1531847 ,  0.16599544, -0.80977183,\n",
       "         0.24585637],\n",
       "       [ 0.46221272,  0.02287927, -0.12894018, -0.60385346,  0.29429993,\n",
       "         0.56387846],\n",
       "       [ 0.44017714,  0.21748418,  0.36105403, -0.3576337 ,  0.06598816,\n",
       "        -0.70450579],\n",
       "       [-0.35675253,  0.10200707,  0.86011499, -0.13379493,  0.03960383,\n",
       "         0.32102158],\n",
       "       [-0.19553907,  0.95355918, -0.2194771 , -0.01061653, -0.00823046,\n",
       "         0.06433281]])"
      ]
     },
     "execution_count": 27,
     "metadata": {},
     "output_type": "execute_result"
    }
   ],
   "source": [
    "# The columns of \"eigvecs\" are the eigenvectors!\n",
    "\n",
    "eigvecs"
   ]
  },
  {
   "cell_type": "code",
   "execution_count": 28,
   "metadata": {},
   "outputs": [],
   "source": [
    "# The eigenvectors of the covariance matrix are our principal components.\n",
    "# Let's look at the first three.\n",
    "\n",
    "pcabh = np.vstack([row[:3].reshape(1, 3) for row in eigvecs])"
   ]
  },
  {
   "cell_type": "markdown",
   "metadata": {},
   "source": [
    "Now, to transform our data points into the space defined by the principal components, we simply need to compute the dot-product of `X_tr_sc` with those principal components.\n",
    "\n",
    "Why? Think about what this matrix product looks like:\n",
    "\n",
    "We take a row of `X_tr_sc` and multiply it by a column of `pcabh`, pairwise. The row of `X_tr_sc` represents the values for the columns in the original space. The column of `pcabh` represents the weights we need on each of the original columns in order to transform a value into principal-component space. And so the product of these two matrices will be each row, transformed into principal-component space!"
   ]
  },
  {
   "cell_type": "code",
   "execution_count": 29,
   "metadata": {},
   "outputs": [
    {
     "data": {
      "text/plain": [
       "array([[-0.91365933, -0.73753232, -0.75054527, -0.54569168,  0.80251396,\n",
       "         1.15654312],\n",
       "       [-0.91365933, -0.95200373, -1.46992382, -1.25674865,  1.82755909,\n",
       "        -0.74548261],\n",
       "       [-0.91365933, -1.03592732, -0.72573911, -1.11862103, -0.22253116,\n",
       "        -1.28891854],\n",
       "       [ 1.44612305,  2.3862903 ,  2.9703783 ,  0.10771202, -1.93093971,\n",
       "        -1.5606365 ],\n",
       "       [ 1.44612305,  1.40718172,  0.98588573,  1.30401733, -0.90589458,\n",
       "        -0.74548261]])"
      ]
     },
     "execution_count": 29,
     "metadata": {},
     "output_type": "execute_result"
    }
   ],
   "source": [
    "X_tr_sc[:5, :]"
   ]
  },
  {
   "cell_type": "code",
   "execution_count": 30,
   "metadata": {},
   "outputs": [
    {
     "data": {
      "text/plain": [
       "array([[-1.86111953,  0.83723319,  0.03688431],\n",
       "       [-2.60114684, -1.06656605,  1.13916515],\n",
       "       [-1.39816584, -1.75604199, -0.56381605],\n",
       "       [ 4.19245622, -1.124883  , -1.00198969],\n",
       "       [ 2.81669662, -0.13582698,  0.23858659]])"
      ]
     },
     "execution_count": 30,
     "metadata": {},
     "output_type": "execute_result"
    }
   ],
   "source": [
    "X_tr_sc.dot(pcabh)[:5, :]"
   ]
  },
  {
   "cell_type": "code",
   "execution_count": 31,
   "metadata": {},
   "outputs": [
    {
     "data": {
      "text/plain": [
       "array([[-1.86111953e+00, -8.37233189e-01,  3.68843075e-02],\n",
       "       [-2.60114684e+00,  1.06656605e+00,  1.13916515e+00],\n",
       "       [-1.39816584e+00,  1.75604199e+00, -5.63816052e-01],\n",
       "       [ 4.19245622e+00,  1.12488300e+00, -1.00198969e+00],\n",
       "       [ 2.81669662e+00,  1.35826979e-01,  2.38586592e-01],\n",
       "       [ 4.89719343e+00, -1.74448146e-01, -7.82255536e-02],\n",
       "       [ 2.00126138e+00, -9.73339596e-01, -3.31002765e-01],\n",
       "       [-4.42447601e-01, -7.24702749e-02,  1.62585952e+00],\n",
       "       [ 3.41693544e+00,  1.68290884e-02,  1.65789879e-01],\n",
       "       [-1.79077164e+00, -6.06732426e-01, -1.05199507e+00],\n",
       "       [-3.40295289e+00, -1.45516748e+00,  1.83685328e+00],\n",
       "       [ 2.81226048e+00, -6.81210439e-01,  9.63953475e-02],\n",
       "       [ 2.27965735e+00, -5.60957079e-01,  1.50053817e-01],\n",
       "       [-1.24293631e+00,  4.42746738e-01,  8.62240394e-02],\n",
       "       [ 2.57198987e+00,  5.55772571e-02,  8.31873765e-01],\n",
       "       [-1.87600420e+00,  9.84864056e-01, -4.77141203e-01],\n",
       "       [-5.76666572e-01,  5.40254299e-01, -9.11047714e-01],\n",
       "       [ 2.43202833e+00,  1.15153349e+00, -1.40494579e-01],\n",
       "       [-2.58298167e+00, -8.04241819e-01, -6.62122569e-01],\n",
       "       [-1.22876696e+00,  9.38197554e-01, -9.14921396e-01],\n",
       "       [-1.55338278e+00, -1.06763865e+00,  8.20878701e-01],\n",
       "       [ 2.63153812e+00, -6.39734859e-01,  4.48127576e-02],\n",
       "       [ 2.33119215e+00, -1.44562959e+00,  1.73538251e-01],\n",
       "       [ 4.11132535e-03, -1.63177989e+00, -5.54745357e-01],\n",
       "       [ 2.17005897e+00, -1.03340153e+00, -2.39791690e-01],\n",
       "       [-1.50236852e+00, -2.96320341e-01, -1.52665502e+00],\n",
       "       [-1.87085418e+00, -6.53190713e-01, -7.46853673e-01],\n",
       "       [ 3.54127392e+00, -9.38001735e-01, -5.68408853e-01],\n",
       "       [ 3.37234855e-01, -7.21665074e-01,  6.13114240e-02],\n",
       "       [-1.37687089e+00,  2.96322734e-01, -3.99922358e-01],\n",
       "       [-2.27086103e-01, -1.05888386e+00,  7.62662328e-01],\n",
       "       [ 1.40522299e-01,  5.76996609e-01,  7.52886244e-01],\n",
       "       [ 3.71494257e+00,  2.82376142e-01,  1.11203417e-01],\n",
       "       [-1.62857856e-01, -2.34566361e-01,  8.63510144e-01],\n",
       "       [-2.24742648e+00, -1.10074616e+00, -9.36219751e-01],\n",
       "       [-2.27181388e+00,  8.69160415e-01,  4.46766849e-01],\n",
       "       [ 2.92091311e-01,  4.68197946e-01,  1.11984172e+00],\n",
       "       [-1.34635646e+00,  1.34466819e+00,  5.07206383e-02],\n",
       "       [ 1.84111857e-01, -3.05080242e-01,  2.09587712e+00],\n",
       "       [ 3.43846520e+00,  7.03311012e-03,  3.07477254e-01],\n",
       "       [-1.59586177e+00,  8.54590107e-01, -9.62733912e-02],\n",
       "       [-1.52904516e+00, -1.03351695e+00, -6.40433529e-01],\n",
       "       [-7.21571743e-01, -4.36032306e-01, -2.60266924e-01],\n",
       "       [ 2.40524550e+00, -1.21522440e-01,  4.45850774e-01],\n",
       "       [ 3.45494147e+00, -1.92110339e-01,  9.84704718e-01],\n",
       "       [-2.27252211e+00, -1.01062901e+00,  2.47752528e+00],\n",
       "       [ 2.57762706e+00,  3.22073357e-01, -3.14801857e-01],\n",
       "       [-1.85914325e+00,  4.18558036e-02, -1.34380473e+00],\n",
       "       [ 6.53272987e-02, -6.66439466e-01,  1.28869620e+00],\n",
       "       [ 4.47964638e+00,  8.97206053e-02, -7.58523844e-01],\n",
       "       [ 4.60262161e+00, -9.69804968e-02, -1.61338554e-01],\n",
       "       [-1.99953323e+00, -1.41423710e+00,  2.34698324e-01],\n",
       "       [-2.15190148e+00,  1.67682841e+00,  5.75581425e-01],\n",
       "       [-2.66125192e+00,  1.13715138e+00,  2.18670393e+00],\n",
       "       [ 4.90038692e+00,  7.75106244e-01, -4.21311565e-01],\n",
       "       [ 3.64784192e+00, -5.66009526e-01,  7.10157003e-02],\n",
       "       [-1.64566926e+00,  3.18823886e-01, -1.83002824e-01],\n",
       "       [-2.15318240e+00,  1.78991816e+00,  1.21358609e-01],\n",
       "       [-1.87654753e+00, -1.12005848e+00,  2.07778409e-02],\n",
       "       [-1.96380670e+00, -7.21529497e-01, -3.75258936e-01],\n",
       "       [-2.02546721e+00, -1.11976121e+00, -1.12792686e+00],\n",
       "       [ 2.61759774e+00,  1.20020192e+00, -4.97358961e-01],\n",
       "       [ 5.52963610e-01,  1.13407859e+00,  3.35559397e-01],\n",
       "       [ 4.92303534e+00,  8.32369261e-01, -7.31423248e-01],\n",
       "       [ 2.14681144e-01, -1.55688402e+00,  5.52706692e-02],\n",
       "       [ 3.12163659e+00,  1.03824297e+00, -1.09057449e-01],\n",
       "       [-1.06838491e+00, -8.10887939e-02, -2.83412936e-01],\n",
       "       [-2.01871118e+00,  8.56106163e-01,  1.24801395e+00],\n",
       "       [-1.44292354e+00,  6.21418270e-01, -1.81888344e+00],\n",
       "       [-1.16196924e+00,  1.38412099e-01, -1.17194076e+00],\n",
       "       [ 1.70983274e-01,  1.50081374e+00,  4.29156726e-01],\n",
       "       [-8.23302405e-01,  1.10249433e+00, -7.63606923e-01],\n",
       "       [ 5.30075201e-02,  6.91716998e-01,  3.11594230e-01],\n",
       "       [-1.31122831e+00,  1.04488742e+00,  1.25287209e+00],\n",
       "       [-4.82960785e-01, -1.45475716e+00,  2.21291069e-01],\n",
       "       [-1.52854191e+00,  9.61589633e-01, -7.10648373e-01],\n",
       "       [-1.13365103e+00,  1.98213024e+00, -5.01518235e-01],\n",
       "       [-1.55754599e+00, -1.44612146e+00, -2.38651553e-03],\n",
       "       [-2.42674888e+00, -7.73878160e-01, -9.57379974e-01],\n",
       "       [ 1.95588530e+00, -5.07625336e-02, -5.87895484e-01],\n",
       "       [ 2.42421830e+00, -3.21057862e-01,  1.24915365e+00],\n",
       "       [ 1.00878124e-01, -1.25665170e+00, -1.15890549e+00],\n",
       "       [-1.16729507e+00,  1.72323434e+00,  6.36953167e-01],\n",
       "       [-1.70949334e+00,  1.49762609e-01, -6.31514394e-01],\n",
       "       [-1.37095498e+00,  9.07001275e-01, -6.34353474e-01],\n",
       "       [ 2.30022755e+00, -8.01698285e-01, -1.51836376e-01],\n",
       "       [-2.36969704e+00,  6.95593492e-01,  4.00584621e-02],\n",
       "       [ 3.44956677e+00, -3.80263214e-02,  4.20964746e-01],\n",
       "       [-1.09562715e+00,  3.13782906e-01, -8.51976143e-01],\n",
       "       [-3.85338288e-02, -1.21265522e+00, -1.20846377e+00],\n",
       "       [-1.27588811e-01, -5.67195475e-02,  4.23875077e-02],\n",
       "       [-5.74830336e-01, -1.27548070e+00,  8.70397067e-01],\n",
       "       [ 1.01068180e+00, -9.64861190e-01,  4.94515495e-01],\n",
       "       [ 5.17246067e-01,  1.05664539e+00,  7.00132435e-01],\n",
       "       [ 3.33805116e+00, -7.04324947e-01, -2.16922111e-01],\n",
       "       [-1.93109526e+00, -1.31621358e+00, -1.99144284e-01],\n",
       "       [ 3.46367023e+00,  1.21268462e+00, -1.31931927e+00],\n",
       "       [-9.67108097e-01, -2.10015614e-01, -1.05555249e+00],\n",
       "       [-1.79663779e+00,  1.35576588e+00,  3.45796239e-01],\n",
       "       [-2.33734186e+00, -8.93818039e-01, -5.32701048e-01],\n",
       "       [ 2.35488367e+00, -1.38264444e+00, -1.50486153e-01],\n",
       "       [ 5.95365506e-01, -2.26967083e-01,  7.58097936e-02],\n",
       "       [-1.72068179e+00,  2.23743858e-01, -9.69380671e-01],\n",
       "       [-9.08299149e-01,  1.89238300e+00, -3.63531366e-01],\n",
       "       [-2.24334914e+00,  1.57598439e+00,  1.17527043e+00],\n",
       "       [-2.50255303e+00,  1.87390410e+00,  1.26820122e+00],\n",
       "       [ 5.88491651e-01,  1.34733500e+00, -5.35306552e-01],\n",
       "       [-1.61983903e+00, -1.17603492e-01, -8.82230622e-01],\n",
       "       [-1.02394637e+00, -3.91119027e-01, -9.42274764e-02],\n",
       "       [ 2.80967276e-01,  6.43334677e-01,  3.61948361e-01],\n",
       "       [-1.99415061e+00, -6.31911760e-01, -7.49326423e-01],\n",
       "       [-2.34904100e+00,  1.04362076e+00, -2.75734233e-01],\n",
       "       [-8.55349132e-01,  1.89854890e+00, -3.96105977e-01],\n",
       "       [ 2.61066194e+00,  1.16180298e+00, -2.39540306e-01],\n",
       "       [-1.85596911e+00, -3.32831526e-01, -9.86039910e-01],\n",
       "       [ 2.23056502e+00, -1.15837720e+00,  2.03708472e-01],\n",
       "       [-7.48615562e-01,  4.43473714e-01, -4.43963129e-01],\n",
       "       [ 1.65130066e-01, -1.88842747e-01,  1.49460592e+00],\n",
       "       [-1.75431458e+00,  9.24797137e-01,  1.01912368e+00],\n",
       "       [ 2.00653710e+00, -9.41941263e-01, -4.08790056e-01],\n",
       "       [-2.29818032e+00, -8.11311636e-01, -9.13160364e-01],\n",
       "       [-2.47940683e+00, -7.17704595e-01,  1.25416646e-01],\n",
       "       [-9.62491882e-01, -1.05592296e+00,  1.31664459e+00],\n",
       "       [-2.89558151e-01, -2.34435733e-01, -3.40106077e-01],\n",
       "       [ 2.93131912e+00, -5.70155334e-01,  6.54390976e-01],\n",
       "       [-2.07339241e+00,  1.32528931e-01, -2.84066603e-01],\n",
       "       [-1.06884456e+00, -1.28465357e+00, -1.23747536e+00],\n",
       "       [-4.44836908e-01, -1.77603823e-01,  8.14929605e-01],\n",
       "       [-5.73972301e-01, -9.50495599e-01,  6.12392110e-01],\n",
       "       [-1.73369653e-02,  3.46041860e-01,  6.31709692e-01],\n",
       "       [-1.56890549e+00,  3.88154020e-01,  6.69605429e-01],\n",
       "       [ 2.09071800e+00, -9.68226640e-01,  6.59598316e-01],\n",
       "       [-1.85085019e+00,  2.94404023e-01,  1.06746428e-01],\n",
       "       [ 6.85179005e-01, -3.40935701e-01,  4.80333132e-01],\n",
       "       [ 3.30161399e-01,  1.48156480e+00,  2.54074521e-01],\n",
       "       [ 6.69109652e-01,  1.04278182e+00,  6.73459281e-01],\n",
       "       [ 1.43683657e-01, -1.05302517e+00,  4.36005824e-01],\n",
       "       [-2.59428694e+00, -6.81871457e-01,  8.55423875e-02],\n",
       "       [-1.31625418e+00,  1.13255416e+00, -3.32964038e-01],\n",
       "       [-1.18872549e+00, -5.82136636e-01, -4.39438283e-01],\n",
       "       [ 2.76492307e+00, -5.99563537e-01, -2.45915546e-01],\n",
       "       [-1.62653460e+00, -1.29182306e+00, -6.99260078e-01],\n",
       "       [-2.02478440e+00, -1.51350639e-01, -3.23267121e-01],\n",
       "       [ 1.75703910e+00, -1.37064240e+00,  3.47294035e-01],\n",
       "       [-9.14293707e-01, -3.39142649e-01, -4.48409681e-01],\n",
       "       [-2.10612783e+00,  1.69564737e-01, -3.70994224e-01],\n",
       "       [ 2.49936286e+00, -5.74429266e-01, -6.36036217e-02],\n",
       "       [-1.94643794e+00, -9.99029181e-01, -4.17041982e-01],\n",
       "       [ 6.54767745e-02, -2.92254235e-01,  9.31492478e-01],\n",
       "       [ 2.61652165e+00,  4.13897411e-01, -7.07080175e-01],\n",
       "       [ 5.65959895e-01, -5.67382061e-01,  3.66489073e-01],\n",
       "       [-1.10510101e+00,  3.77331154e-01,  1.79568655e-01],\n",
       "       [ 2.78784369e-01,  5.66839656e-01,  7.06167536e-01],\n",
       "       [ 3.44844466e+00,  1.04747379e+00, -5.47940488e-01],\n",
       "       [-1.13320580e+00,  1.37005154e+00, -2.62256717e-01],\n",
       "       [-3.22658235e-01, -1.76392035e+00,  2.40298033e-01],\n",
       "       [-9.30709740e-01,  1.70989653e+00, -7.73902162e-01],\n",
       "       [-2.11241163e+00, -1.22786225e+00, -5.06220180e-01],\n",
       "       [-8.37167621e-01,  1.33703990e+00, -4.53664594e-01],\n",
       "       [-1.70185227e+00,  1.02649483e+00,  5.59732553e-01],\n",
       "       [ 2.75706844e+00, -2.26136870e-01,  5.73758750e-01],\n",
       "       [-3.52676503e-01, -6.78369270e-01,  4.14130865e-01],\n",
       "       [-9.42002762e-01,  5.16890429e-01, -5.51788183e-01],\n",
       "       [ 4.03221361e+00,  1.04662251e+00, -9.45454459e-01],\n",
       "       [-1.28820507e+00,  1.05540524e+00,  1.18495829e-02],\n",
       "       [ 2.84749761e+00,  6.80315829e-01,  3.02227549e-01],\n",
       "       [ 2.59395627e-02, -1.43610035e+00,  2.28601479e+00],\n",
       "       [-1.35952318e+00, -8.78179523e-01, -2.01719269e-01],\n",
       "       [-2.30093270e+00,  4.71348286e-01, -3.13462967e-01],\n",
       "       [ 5.82643481e-01, -3.04114485e-02,  4.75299767e-01],\n",
       "       [ 1.56142868e-01, -6.34535376e-01,  9.98237915e-01],\n",
       "       [-1.64858187e+00,  6.48448493e-01, -4.46451106e-01],\n",
       "       [-1.70854992e+00, -1.09431599e+00,  9.48905569e-01],\n",
       "       [ 3.11869700e+00,  5.40208400e-02,  3.20294392e-01],\n",
       "       [ 3.98240351e+00,  6.89065263e-01,  7.32911998e-01],\n",
       "       [-1.37872982e+00, -1.37724063e+00, -5.69224647e-01],\n",
       "       [ 4.78216713e+00,  8.60521941e-01, -7.53642576e-01],\n",
       "       [ 3.72364275e+00, -1.43133448e-01,  5.96980923e-01],\n",
       "       [-1.38228732e+00, -1.08778689e+00, -5.54697254e-01],\n",
       "       [ 1.40898729e+00, -1.26748477e+00,  2.07095101e-01],\n",
       "       [-1.03279537e+00, -1.02382374e+00, -1.16741932e+00],\n",
       "       [-1.71017256e+00,  3.93528894e-01, -5.13025625e-01],\n",
       "       [ 3.49859908e+00,  1.10526212e+00, -7.22059663e-01],\n",
       "       [-2.47385844e+00, -4.35095424e-01,  1.46022620e-01],\n",
       "       [ 1.38623873e+00, -7.14076441e-01, -8.10386496e-01],\n",
       "       [-5.33547933e-01,  1.06416379e+00, -7.80553743e-01],\n",
       "       [-2.24072994e+00,  1.71656336e+00,  4.95996268e-01],\n",
       "       [ 5.68574694e-01,  1.07193372e+00,  6.29967373e-01],\n",
       "       [-2.11111004e+00,  1.59204740e+00,  9.15849984e-01],\n",
       "       [ 2.25504080e-01, -1.97232551e-01,  1.47418557e+00],\n",
       "       [-2.14426328e+00, -8.68581505e-01, -8.25494655e-01],\n",
       "       [ 1.55805827e-02,  2.14002420e-01, -1.11834280e-01],\n",
       "       [-1.92345931e+00, -1.41506701e+00,  2.00989327e-01],\n",
       "       [ 3.00118229e-01, -5.93627829e-01, -1.74933222e+00],\n",
       "       [ 4.11220109e-01, -3.43166491e-01,  7.00994335e-01]])"
      ]
     },
     "execution_count": 31,
     "metadata": {},
     "output_type": "execute_result"
    }
   ],
   "source": [
    "# Naturally, sklearn has a shortcut for this!\n",
    "\n",
    "pca = PCA(n_components=3)                       # Check out how `n_components` works\n",
    "\n",
    "X_train_new = pca.fit_transform(X_tr_sc)\n",
    "\n",
    "X_train_new"
   ]
  },
  {
   "cell_type": "code",
   "execution_count": 32,
   "metadata": {},
   "outputs": [
    {
     "data": {
      "text/plain": [
       "array([4.28816227, 0.89326802, 0.59474284])"
      ]
     },
     "execution_count": 32,
     "metadata": {},
     "output_type": "execute_result"
    }
   ],
   "source": [
    "# Let's check out the explained variance\n",
    "\n",
    "pca.explained_variance_"
   ]
  },
  {
   "cell_type": "code",
   "execution_count": 33,
   "metadata": {},
   "outputs": [
    {
     "data": {
      "text/plain": [
       "array([0.71102862, 0.14811453, 0.09861548])"
      ]
     },
     "execution_count": 33,
     "metadata": {},
     "output_type": "execute_result"
    }
   ],
   "source": [
    "# The ratio is often more informative\n",
    "\n",
    "pca.explained_variance_ratio_"
   ]
  },
  {
   "cell_type": "code",
   "execution_count": 34,
   "metadata": {},
   "outputs": [
    {
     "data": {
      "text/plain": [
       "array([[ 0.45427234,  0.46982149,  0.46221272,  0.44017714, -0.35675253,\n",
       "        -0.19553907],\n",
       "       [-0.14291488, -0.10987243, -0.02287927, -0.21748418, -0.10200707,\n",
       "        -0.95355918],\n",
       "       [ 0.2039139 ,  0.1531847 , -0.12894018,  0.36105403,  0.86011499,\n",
       "        -0.2194771 ]])"
      ]
     },
     "execution_count": 34,
     "metadata": {},
     "output_type": "execute_result"
    }
   ],
   "source": [
    "# We can also check out the Principal Components themselves\n",
    "\n",
    "pca.components_"
   ]
  },
  {
   "cell_type": "code",
   "execution_count": 35,
   "metadata": {},
   "outputs": [
    {
     "data": {
      "text/plain": [
       "Index(['mpg', ' cylinders', ' cubicinches', ' hp', ' weightlbs', ' time-to-60',\n",
       "       ' year', ' brand'],\n",
       "      dtype='object')"
      ]
     },
     "execution_count": 35,
     "metadata": {},
     "output_type": "execute_result"
    }
   ],
   "source": [
    "# Recall the columns of cars\n",
    "\n",
    "cars.columns"
   ]
  },
  {
   "cell_type": "markdown",
   "metadata": {},
   "source": [
    "The results of our PCA are as follows:\n",
    "\n",
    "**PC1** = 0.454 * cylinders + 0.470 * cubicinches + 0.462 * hp + 0.440 * weightlbs - 0.357 * time-to-60 - 0.196 * year\n",
    "\n",
    "**PC2** = -0.143 * cylinders - 0.110 * cubicinches - 0.023 * hp - 0.217 * weightlbs - 0.102 * time-to-60 - 0.954 * year\n",
    "\n",
    "**PC3** = 0.204 * cylinders + 0.153 * cubicinches - 0.129 * hp + 0.361 * weightlbs + 0.860 * time-to-60 - 0.219 * year"
   ]
  },
  {
   "cell_type": "markdown",
   "metadata": {},
   "source": [
    "It turns out that these loadings are encoded in the eigenvectors of $X^TX$. Notice that:\n",
    "\n",
    "- the absolute values of the components of PC1 are the first components of the eigenvectors below, <br/>\n",
    "- the absolute values of the components of PC2 are the second components of the eigenvectors below, <br/>\n",
    "- etc. <br/>\n",
    "\n",
    "We'll have more to say about this when we examine the singular value decomposition of matrices later on."
   ]
  },
  {
   "cell_type": "code",
   "execution_count": 36,
   "metadata": {
    "scrolled": true
   },
   "outputs": [
    {
     "data": {
      "text/plain": [
       "(array([831.90348119, 173.29399576, 115.38011118,  27.78134973,\n",
       "          7.55777516,  14.08328699]),\n",
       " array([[ 0.45427234,  0.14291488,  0.2039139 ,  0.67962553,  0.50166371,\n",
       "          0.13443869],\n",
       "        [ 0.46982149,  0.10987243,  0.1531847 ,  0.16599544, -0.80977183,\n",
       "          0.24585637],\n",
       "        [ 0.46221272,  0.02287927, -0.12894018, -0.60385346,  0.29429993,\n",
       "          0.56387846],\n",
       "        [ 0.44017714,  0.21748418,  0.36105403, -0.3576337 ,  0.06598816,\n",
       "         -0.70450579],\n",
       "        [-0.35675253,  0.10200707,  0.86011499, -0.13379493,  0.03960383,\n",
       "          0.32102158],\n",
       "        [-0.19553907,  0.95355918, -0.2194771 , -0.01061653, -0.00823046,\n",
       "          0.06433281]]))"
      ]
     },
     "execution_count": 36,
     "metadata": {},
     "output_type": "execute_result"
    }
   ],
   "source": [
    "np.linalg.eig(X_tr_sc.T.dot(X_tr_sc))"
   ]
  },
  {
   "cell_type": "markdown",
   "metadata": {},
   "source": [
    "## Normality"
   ]
  },
  {
   "cell_type": "code",
   "execution_count": 37,
   "metadata": {},
   "outputs": [
    {
     "data": {
      "text/plain": [
       "1.0000000000000007"
      ]
     },
     "execution_count": 37,
     "metadata": {},
     "output_type": "execute_result"
    }
   ],
   "source": [
    "# These principal components should be normalized.\n",
    "# If they are, then the sum of the squares of the\n",
    "# loadings should be 1. Let's check!\n",
    "\n",
    "mag0 = 0\n",
    "for i in range(6):\n",
    "    mag0 += pca.components_[0][i]**2\n",
    "mag0"
   ]
  },
  {
   "cell_type": "code",
   "execution_count": 38,
   "metadata": {},
   "outputs": [
    {
     "data": {
      "text/plain": [
       "1.0000000000000002"
      ]
     },
     "execution_count": 38,
     "metadata": {},
     "output_type": "execute_result"
    }
   ],
   "source": [
    "np.linalg.norm(pca.components_[0])"
   ]
  },
  {
   "cell_type": "code",
   "execution_count": 39,
   "metadata": {},
   "outputs": [
    {
     "data": {
      "text/plain": [
       "1.0"
      ]
     },
     "execution_count": 39,
     "metadata": {},
     "output_type": "execute_result"
    }
   ],
   "source": [
    "np.linalg.norm(pca.components_[1])"
   ]
  },
  {
   "cell_type": "code",
   "execution_count": 40,
   "metadata": {},
   "outputs": [
    {
     "data": {
      "text/plain": [
       "1.0"
      ]
     },
     "execution_count": 40,
     "metadata": {},
     "output_type": "execute_result"
    }
   ],
   "source": [
    "np.linalg.norm(pca.components_[2])"
   ]
  },
  {
   "cell_type": "markdown",
   "metadata": {},
   "source": [
    "## Orthogonality"
   ]
  },
  {
   "cell_type": "code",
   "execution_count": 41,
   "metadata": {},
   "outputs": [
    {
     "data": {
      "text/plain": [
       "0.0"
      ]
     },
     "execution_count": 41,
     "metadata": {},
     "output_type": "execute_result"
    }
   ],
   "source": [
    "# These principal components should also be\n",
    "# mutually orthogonal. If they are, then the\n",
    "# dot product of any two of them should be 0.\n",
    "# Let's check!\n",
    "\n",
    "dot_prod01 = 0\n",
    "for i in range(6):\n",
    "    dot_prod01 += pca.components_[0][i] * pca.components_[1][i]\n",
    "dot_prod01"
   ]
  },
  {
   "cell_type": "code",
   "execution_count": 45,
   "metadata": {},
   "outputs": [
    {
     "data": {
      "text/plain": [
       "-1.3877787807814457e-17"
      ]
     },
     "execution_count": 45,
     "metadata": {},
     "output_type": "execute_result"
    }
   ],
   "source": [
    "pca.components_[0].dot(pca.components_[1])"
   ]
  },
  {
   "cell_type": "code",
   "execution_count": 46,
   "metadata": {},
   "outputs": [
    {
     "data": {
      "text/plain": [
       "5.551115123125783e-17"
      ]
     },
     "execution_count": 46,
     "metadata": {},
     "output_type": "execute_result"
    }
   ],
   "source": [
    "pca.components_[0].dot(pca.components_[2])"
   ]
  },
  {
   "cell_type": "code",
   "execution_count": 47,
   "metadata": {},
   "outputs": [
    {
     "data": {
      "text/plain": [
       "4.579669976578771e-16"
      ]
     },
     "execution_count": 47,
     "metadata": {},
     "output_type": "execute_result"
    }
   ],
   "source": [
    "pca.components_[1].dot(pca.components_[2])"
   ]
  },
  {
   "cell_type": "markdown",
   "metadata": {},
   "source": [
    "## Transformed dimensions have zero correlation"
   ]
  },
  {
   "cell_type": "code",
   "execution_count": 48,
   "metadata": {},
   "outputs": [
    {
     "data": {
      "text/plain": [
       "array([[ 1.00000000e+00,  3.20506961e-18,  2.86488400e-17],\n",
       "       [ 3.20506961e-18,  1.00000000e+00, -2.50047926e-16],\n",
       "       [ 2.86488400e-17, -2.50047926e-16,  1.00000000e+00]])"
      ]
     },
     "execution_count": 48,
     "metadata": {},
     "output_type": "execute_result"
    }
   ],
   "source": [
    "np.corrcoef(X_train_new.T)"
   ]
  },
  {
   "cell_type": "markdown",
   "metadata": {},
   "source": [
    "## Visualizations"
   ]
  },
  {
   "cell_type": "code",
   "execution_count": 49,
   "metadata": {},
   "outputs": [],
   "source": [
    "X_test_new = pca.transform(test_scaled)"
   ]
  },
  {
   "cell_type": "code",
   "execution_count": 50,
   "metadata": {},
   "outputs": [],
   "source": [
    "X_transformed = np.vstack([X_train_new, X_test_new])\n",
    "y_new = np.concatenate([y_train, y_test])"
   ]
  },
  {
   "cell_type": "code",
   "execution_count": 54,
   "metadata": {},
   "outputs": [],
   "source": [
    "# PCA1"
   ]
  },
  {
   "cell_type": "code",
   "execution_count": 51,
   "metadata": {},
   "outputs": [
    {
     "data": {
      "image/png": "[encoded data removed]",
      "text/plain": [
       "<Figure size 432x288 with 1 Axes>"
      ]
     },
     "metadata": {
      "needs_background": "light"
     },
     "output_type": "display_data"
    }
   ],
   "source": [
    "f, a = plt.subplots()\n",
    "a.plot(X_transformed[:, 0], y_new, 'r.');"
   ]
  },
  {
   "cell_type": "code",
   "execution_count": 55,
   "metadata": {},
   "outputs": [],
   "source": [
    "# PCA2"
   ]
  },
  {
   "cell_type": "code",
   "execution_count": 52,
   "metadata": {},
   "outputs": [
    {
     "data": {
      "image/png": "[encoded data removed]",
      "text/plain": [
       "<Figure size 432x288 with 1 Axes>"
      ]
     },
     "metadata": {
      "needs_background": "light"
     },
     "output_type": "display_data"
    }
   ],
   "source": [
    "f, a = plt.subplots()\n",
    "a.plot(X_transformed[:, 1], y_new, 'g.');"
   ]
  },
  {
   "cell_type": "code",
   "execution_count": 56,
   "metadata": {},
   "outputs": [],
   "source": [
    "# PCA3"
   ]
  },
  {
   "cell_type": "code",
   "execution_count": 53,
   "metadata": {},
   "outputs": [
    {
     "data": {
      "image/png": "[encoded data removed]",
      "text/plain": [
       "<Figure size 432x288 with 1 Axes>"
      ]
     },
     "metadata": {
      "needs_background": "light"
     },
     "output_type": "display_data"
    }
   ],
   "source": [
    "f, a = plt.subplots()\n",
    "a.plot(X_transformed[:, 2], y_new, 'k.');"
   ]
  },
  {
   "cell_type": "code",
   "execution_count": 57,
   "metadata": {},
   "outputs": [
    {
     "data": {
      "text/html": [
       "<div>\n",
       "<style scoped>\n",
       "    .dataframe tbody tr th:only-of-type {\n",
       "        vertical-align: middle;\n",
       "    }\n",
       "\n",
       "    .dataframe tbody tr th {\n",
       "        vertical-align: top;\n",
       "    }\n",
       "\n",
       "    .dataframe thead th {\n",
       "        text-align: right;\n",
       "    }\n",
       "</style>\n",
       "<table border=\"1\" class=\"dataframe\">\n",
       "  <thead>\n",
       "    <tr style=\"text-align: right;\">\n",
       "      <th></th>\n",
       "      <th>PC1</th>\n",
       "      <th>PC2</th>\n",
       "      <th>PC3</th>\n",
       "      <th>y</th>\n",
       "    </tr>\n",
       "  </thead>\n",
       "  <tbody>\n",
       "    <tr>\n",
       "      <td>0</td>\n",
       "      <td>-1.861120</td>\n",
       "      <td>-0.837233</td>\n",
       "      <td>0.036884</td>\n",
       "      <td>31.3</td>\n",
       "    </tr>\n",
       "    <tr>\n",
       "      <td>1</td>\n",
       "      <td>-2.601147</td>\n",
       "      <td>1.066566</td>\n",
       "      <td>1.139165</td>\n",
       "      <td>26.0</td>\n",
       "    </tr>\n",
       "    <tr>\n",
       "      <td>2</td>\n",
       "      <td>-1.398166</td>\n",
       "      <td>1.756042</td>\n",
       "      <td>-0.563816</td>\n",
       "      <td>30.0</td>\n",
       "    </tr>\n",
       "    <tr>\n",
       "      <td>3</td>\n",
       "      <td>4.192456</td>\n",
       "      <td>1.124883</td>\n",
       "      <td>-1.001990</td>\n",
       "      <td>14.0</td>\n",
       "    </tr>\n",
       "    <tr>\n",
       "      <td>4</td>\n",
       "      <td>2.816697</td>\n",
       "      <td>0.135827</td>\n",
       "      <td>0.238587</td>\n",
       "      <td>15.0</td>\n",
       "    </tr>\n",
       "  </tbody>\n",
       "</table>\n",
       "</div>"
      ],
      "text/plain": [
       "        PC1       PC2       PC3     y\n",
       "0 -1.861120 -0.837233  0.036884  31.3\n",
       "1 -2.601147  1.066566  1.139165  26.0\n",
       "2 -1.398166  1.756042 -0.563816  30.0\n",
       "3  4.192456  1.124883 -1.001990  14.0\n",
       "4  2.816697  0.135827  0.238587  15.0"
      ]
     },
     "execution_count": 57,
     "metadata": {},
     "output_type": "execute_result"
    }
   ],
   "source": [
    "df = pd.DataFrame(np.hstack([X_transformed, y_new[:, np.newaxis]]),\n",
    "                  columns=['PC1', 'PC2', 'PC3', 'y'])\n",
    "df.head()"
   ]
  },
  {
   "cell_type": "code",
   "execution_count": 58,
   "metadata": {},
   "outputs": [
    {
     "data": {
      "image/png": "[encoded data removed]",
      "text/plain": [
       "<Figure size 418.25x360 with 1 Axes>"
      ]
     },
     "metadata": {
      "needs_background": "light"
     },
     "output_type": "display_data"
    }
   ],
   "source": [
    "sns.relplot(data=df,\n",
    "            x='PC1',\n",
    "            y='PC2',\n",
    "           hue='y');"
   ]
  },
  {
   "cell_type": "markdown",
   "metadata": {},
   "source": [
    "Question: Is the first principal component the same line we would get if we constructed an ordinary least-squares regression line?\n",
    "\n",
    "The answer is NO! Check out this post for an illuminating discussion: https://shankarmsy.github.io/posts/pca-vs-lr.html"
   ]
  },
  {
   "cell_type": "markdown",
   "metadata": {},
   "source": [
    "## Modeling with New Dimensions\n",
    "\n",
    "Now that we have optimized our features, we can build a new model with them!"
   ]
  },
  {
   "cell_type": "code",
   "execution_count": 59,
   "metadata": {},
   "outputs": [
    {
     "data": {
      "text/plain": [
       "0.7892176900188986"
      ]
     },
     "execution_count": 59,
     "metadata": {},
     "output_type": "execute_result"
    }
   ],
   "source": [
    "lr_pca = LinearRegression()\n",
    "lr_pca.fit(X_train_new, y_train)\n",
    "lr_pca.score(X_train_new, y_train)"
   ]
  },
  {
   "cell_type": "code",
   "execution_count": 60,
   "metadata": {},
   "outputs": [],
   "source": [
    "X_test_new = pca.transform(test_scaled)"
   ]
  },
  {
   "cell_type": "code",
   "execution_count": 61,
   "metadata": {},
   "outputs": [
    {
     "data": {
      "text/plain": [
       "0.7095548918693229"
      ]
     },
     "execution_count": 61,
     "metadata": {},
     "output_type": "execute_result"
    }
   ],
   "source": [
    "lr_pca.score(X_test_new, y_test)"
   ]
  },
  {
   "cell_type": "code",
   "execution_count": 62,
   "metadata": {},
   "outputs": [
    {
     "data": {
      "text/plain": [
       "array([-3.00386437, -1.14559729, -2.48696878])"
      ]
     },
     "execution_count": 62,
     "metadata": {},
     "output_type": "execute_result"
    }
   ],
   "source": [
    "lr_pca.coef_"
   ]
  },
  {
   "cell_type": "markdown",
   "metadata": {},
   "source": [
    "Thus, our best-fit hyperplane is given by:\n",
    "\n",
    "$-3.00\\times PC1 - 1.15\\times PC2 -2.49\\times PC3$\n",
    "\n",
    "Of course, since the principal components are just linear combinations of our original predictors, we could re-express this hyperplane in terms of those original predictors!\n",
    "\n",
    "And if the PCA was worth anything, we should expect the new linear model to be *different from* the first!\n",
    "\n",
    "Recall that we had:\n",
    "\n",
    "**PC1** = 0.454 * cylinders + 0.470 * cubicinches + 0.462 * hp + 0.440 * weightlbs - 0.357 * time-to-60 - 0.196 * year\n",
    "\n",
    "**PC2** = -0.143 * cylinders - 0.110 * cubicinches - 0.023 * hp - 0.217 * weightlbs - 0.102 * time-to-60 - 0.954 * year\n",
    "\n",
    "**PC3** = 0.204 * cylinders + 0.153 * cubicinches - 0.129 * hp + 0.361 * weightlbs + 0.860 * time-to-60 - 0.220 * year\n",
    "\n",
    "Therefore, our new PCA-made hyperplane can be expressed as:\n",
    "\n",
    "$-3.00\\times(0.454\\times cyl + 0.470\\times in^3 + 0.462\\times hp + 0.440\\times lbs. - 0.357\\times time_{60} - 0.196\\times yr)$ <br/> $- 1.15\\times(-0.143\\times cyl - 0.110\\times in^3 - 0.023\\times hp - 0.217\\times lbs. - 0.102\\times time_{60} - 0.954\\times yr)$ <br/> $- 2.49\\times(0.204\\times cyl + 0.153\\times in^3 - 0.129\\times hp + 0.361\\times lbs. + 0.860\\times time_{60} - 0.219\\times yr)$ <br/><br/> $= - 1.706\\times cyl - 1.664\\times in^3 -1.038\\times hp - 1.969\\times lbs. - 0.953\\times time_{60} + 2.230\\times yr$"
   ]
  },
  {
   "cell_type": "markdown",
   "metadata": {},
   "source": [
    "Our first linear regression model had:\n",
    "\n",
    "$-1.409\\times cyl + 0.681\\times in^3 - 0.480\\times hp - 4.658\\times lbs. -  0.176\\times time_{60} + 2.427\\times yr$,\n",
    "\n",
    "which is clearly a different hyperplane."
   ]
  },
  {
   "cell_type": "markdown",
   "metadata": {},
   "source": [
    "[Here's](https://www.youtube.com/watch?v=_UVHneBUBW0) a helpful video introduction to PCA if you're itching for more!"
   ]
  },
  {
   "cell_type": "code",
   "execution_count": null,
   "metadata": {},
   "outputs": [],
   "source": []
  }
 ],
 "metadata": {
  "kernelspec": {
   "display_name": "Python 3",
   "language": "python",
   "name": "python3"
  },
  "language_info": {
   "codemirror_mode": {
    "name": "ipython",
    "version": 3
   },
   "file_extension": ".py",
   "mimetype": "text/x-python",
   "name": "python",
   "nbconvert_exporter": "python",
   "pygments_lexer": "ipython3",
   "version": "3.6.9"
  }
 },
 "nbformat": 4,
 "nbformat_minor": 4
}
